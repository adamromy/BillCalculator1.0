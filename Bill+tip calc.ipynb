{
 "cells": [
  {
   "cell_type": "code",
   "execution_count": 4,
   "metadata": {},
   "outputs": [
    {
     "name": "stdout",
     "output_type": "stream",
     "text": [
      "Welcome to BillCalc 1.0\n",
      "\n",
      "\n",
      "How many people are paying?:\t5\n",
      "How much is the bill?:\t$100\n",
      "How much do you intend to tip:\t%15\n",
      "Splendid!\n",
      "\n",
      "The tip: $15.0\n",
      "Each person should pay: $23.0\n"
     ]
    }
   ],
   "source": [
    "##Bill+Tip Calculator\n",
    "print('Welcome to BillCalc 1.0\\n\\n')\n",
    "#pre-defined variables\n",
    "num_people=0\n",
    "bill=0.00\n",
    "percent = 0\n",
    "accepted_percent = range(10,101)\n",
    "#get some input\n",
    "num_people =int(input('How many people are paying?:\\t'))\n",
    "bill =float(input('How much is the bill?:\\t$'))\n",
    "\n",
    "#minimal error mitigation\n",
    "while percent not in accepted_percent:\n",
    "    percent=float(input('How much do you intend to tip:\\t%'))\n",
    "    if percent in accepted_percent:\n",
    "        print('Splendid!')\n",
    "    else:\n",
    "        print('Whoops, are you sure thats possible?')\n",
    "        \n",
    "#this takes the int(input()) and converts it to a usable percentage\n",
    "percent = percent/100\n",
    "#figures out the tip\n",
    "tip=bill*percent\n",
    "#rounds tip to nearest hundreth for readability\n",
    "tip = round(tip,2) \n",
    "\n",
    "total=bill+tip\n",
    "#how much does each person pay?\n",
    "person_pays = total / num_people\n",
    "person_pays = round(person_pays,2)\n",
    "\n",
    "print('\\nThe tip: ${}\\nEach person should pay: ${}'.format(tip,person_pays))\n"
   ]
  },
  {
   "cell_type": "code",
   "execution_count": 10,
   "metadata": {},
   "outputs": [],
   "source": [
    "##bill+tip calc as a func\n",
    "\n",
    "def bill_tip_calc(num_people, bill, tip):\n",
    "    \n",
    "    tip = tip/100\n",
    "    total_bill = bill*tip +bill\n",
    "    person_pays = total_bill/num_people\n",
    "    print(f'Each person should pay ${person_pays}')\n",
    "    return "
   ]
  },
  {
   "cell_type": "code",
   "execution_count": 11,
   "metadata": {},
   "outputs": [
    {
     "data": {
      "text/plain": [
       "'Each person should pay $23.0'"
      ]
     },
     "execution_count": 11,
     "metadata": {},
     "output_type": "execute_result"
    }
   ],
   "source": [
    "bill_tip_calc(5,100,15)"
   ]
  },
  {
   "cell_type": "code",
   "execution_count": null,
   "metadata": {},
   "outputs": [],
   "source": []
  }
 ],
 "metadata": {
  "kernelspec": {
   "display_name": "Python 3",
   "language": "python",
   "name": "python3"
  },
  "language_info": {
   "codemirror_mode": {
    "name": "ipython",
    "version": 3
   },
   "file_extension": ".py",
   "mimetype": "text/x-python",
   "name": "python",
   "nbconvert_exporter": "python",
   "pygments_lexer": "ipython3",
   "version": "3.7.3"
  }
 },
 "nbformat": 4,
 "nbformat_minor": 2
}
